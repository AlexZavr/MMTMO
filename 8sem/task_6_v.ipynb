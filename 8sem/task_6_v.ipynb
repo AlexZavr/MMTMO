{
 "cells": [
  {
   "cell_type": "code",
   "execution_count": 20,
   "metadata": {},
   "outputs": [
    {
     "name": "stdout",
     "output_type": "stream",
     "text": [
      "0.18867924528301888\n",
      "0.18867924528301888\n",
      "0.18867924528301888\n",
      "0.1886792452830189\n",
      "0.14150943396226418\n",
      "0.1037735849056604\n",
      "-----\n",
      "0.18867924528301888\n",
      "0.18867924528301888\n",
      "0.1886792452830189\n",
      "0.14150943396226418\n",
      "0.031446540880503145\n",
      "\n",
      "0.9276729559748429\n"
     ]
    }
   ],
   "source": [
    "k = 5\n",
    "lambd = 5\n",
    "mu = 5 \n",
    "alpha = lambd / mu\n",
    "\n",
    "p0 = 120 / (120 + 220 * alpha + 195 * alpha ** 2 + 85 * alpha ** 3 + 15 * alpha ** 4 + alpha ** 5)\n",
    "print(p0)\n",
    "\n",
    "p1 = p0 * alpha\n",
    "print(p1)\n",
    "\n",
    "p2 = (p0 * alpha * (alpha + 1)) / 2\n",
    "print(p2)\n",
    "\n",
    "p3 = (p0 * alpha * (alpha + 1) * (alpha + 2)) / 6\n",
    "print(p3)\n",
    "\n",
    "p4 = (p0 * alpha * (alpha + 1) * (alpha + 2) * (alpha + 3) - 6 * alpha * p0) / 24\n",
    "print(p4)\n",
    "\n",
    "p5 = (p0 * ((alpha * (alpha + 1) * (alpha + 2) * (alpha + 3) - 6 * alpha) * (alpha + 4) - 24 * alpha ** 2)) / 120\n",
    "print(p5)\n",
    "\n",
    "print('-----')\n",
    "\n",
    "p1 = p0 / alpha\n",
    "print(p1)\n",
    "p2 = (p1 * (alpha + 1)) / 2\n",
    "print(p2)\n",
    "p3 = (p2 * (alpha + 2)) / 3\n",
    "print(p3)\n",
    "p4 = (p3 * (alpha + 3) - alpha * p0) / 4\n",
    "print(p4)\n",
    "p5 = (alpha * p2) / (alpha + 5)\n",
    "print(p5)\n",
    "\n",
    "print()\n",
    "print(p0 + p1 + p2 + p3 + p4 + p5)"
   ]
  }
 ],
 "metadata": {
  "kernelspec": {
   "display_name": "Python 3",
   "language": "python",
   "name": "python3"
  },
  "language_info": {
   "codemirror_mode": {
    "name": "ipython",
    "version": 3
   },
   "file_extension": ".py",
   "mimetype": "text/x-python",
   "name": "python",
   "nbconvert_exporter": "python",
   "pygments_lexer": "ipython3",
   "version": "3.8.5"
  }
 },
 "nbformat": 4,
 "nbformat_minor": 4
}
