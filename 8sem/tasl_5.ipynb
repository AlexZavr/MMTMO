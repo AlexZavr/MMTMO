{
 "cells": [
  {
   "cell_type": "code",
   "execution_count": 24,
   "metadata": {},
   "outputs": [
    {
     "name": "stdout",
     "output_type": "stream",
     "text": [
      "2.000000000000001\n"
     ]
    }
   ],
   "source": [
    "k = 3\n",
    "lambd = 1 / 5\n",
    "mu = 1 / 10\n",
    "\n",
    "psy = lambd / (k * mu)\n",
    "\n",
    "profit = 50\n",
    "expenses = 170\n",
    "work_time = 9\n",
    "\n",
    "r = .810535713766137\n",
    "print(sum([r ** i for i in range(1, k + 1)]))"
   ]
  },
  {
   "cell_type": "code",
   "execution_count": 25,
   "metadata": {},
   "outputs": [],
   "source": [
    "def get_p0(r, k):\n",
    "    return (1 - r) / k\n",
    "\n",
    "def get_pq(r, k, q): \n",
    "    return (1 - r ** (q + 1)) / k\n",
    "\n",
    "def get_pkn(r, psy, n):\n",
    "    return psy * (1 - r) * (r ** n)"
   ]
  },
  {
   "cell_type": "code",
   "execution_count": 33,
   "metadata": {},
   "outputs": [
    {
     "name": "stdout",
     "output_type": "stream",
     "text": [
      "p0 = 0.06315476207795434\n",
      "b_ = 3.278039570822659\n",
      "Среднее время ожидания в очереди: 16.390197854113293\n",
      "Вероятность того, что аттракцион простаивает: 0.33333333333333304\n",
      "Среднее число человек, ожидающих в очереди: 3.278039570822659\n",
      "Вероятность ожидания в очереди: 0.6666666666666669\n",
      "Долю времени, в течение которого аттракцион используется: 0.666666666666667\n",
      "Среднее значение выручки от использования аттракциона: 5400.000000000003\n",
      "Среднее значение прибыли от использования аттракциона: -720.0\n"
     ]
    }
   ],
   "source": [
    "p0 = get_p0(r, k)\n",
    "print('p0 =', p0)\n",
    "\n",
    "# а) среднее время ожидания в очереди\n",
    "temp1 = p0 / (1 - r)\n",
    "temp2 = (k * (k - 1)) / 2\n",
    "\n",
    "numerator = r ** 2 * (k * r ** (k - 1) * (1 - r) - (1 - r ** k))\n",
    "denominator = (1 - r) ** 2\n",
    "temp3 = numerator / denominator\n",
    "\n",
    "temp4 = p0 * (1 - r ** k) / (1 - r)\n",
    "temp5 = (r ** 2) / ((1 - r) ** 2)\n",
    "\n",
    "b_ = temp1 * (temp2 + temp3) + temp4 * temp5\n",
    "print('b_ =', b_)\n",
    "\n",
    "w_ = b_ / lambd\n",
    "print('Среднее время ожидания в очереди:', w_)\n",
    "\n",
    "# б) вероятность того, что аттракцион простаивает\n",
    "p_p = p0 + sum([get_pq(r, k, q) for q in range(1, k)])\n",
    "print('Вероятность того, что аттракцион простаивает:', p_p)\n",
    "\n",
    "# в) среднее число человек, ожидающих в очереди \n",
    "print('Среднее число человек, ожидающих в очереди:', b_)\n",
    "\n",
    "# г) вероятность ожидания в очереди \n",
    "p_wait_q = sum([get_pkn(r, psy, n) for n in range(500)])\n",
    "print('Вероятность ожидания в очереди:', p_wait_q)\n",
    "\n",
    "# д) долю времени, в течение которого аттракцион используется \n",
    "p_w = 1 - p_p\n",
    "print('Долю времени, в течение которого аттракцион используется:', p_w)\n",
    "\n",
    "# е) средние значения выручки и прибыли от использования аттракциона\n",
    "revenue = profit * k * work_time * p_w * (60 / (1 / mu)) \n",
    "print('Среднее значение выручки от использования аттракциона:', revenue)\n",
    "\n",
    "earnings = expenses * work_time * p_w * (60 / (1 / mu))\n",
    "print('Среднее значение прибыли от использования аттракциона:', revenue - earnings)\n",
    "\n"
   ]
  },
  {
   "cell_type": "code",
   "execution_count": null,
   "metadata": {},
   "outputs": [],
   "source": [
    "# Определить, как изменятся средняя прибыль и среднее время ожидания \n",
    "# в очереди при различных значениях вместимости аттракциона – от 3 до 10 человек"
   ]
  }
 ],
 "metadata": {
  "kernelspec": {
   "display_name": "Python 3",
   "language": "python",
   "name": "python3"
  },
  "language_info": {
   "codemirror_mode": {
    "name": "ipython",
    "version": 3
   },
   "file_extension": ".py",
   "mimetype": "text/x-python",
   "name": "python",
   "nbconvert_exporter": "python",
   "pygments_lexer": "ipython3",
   "version": "3.8.5"
  }
 },
 "nbformat": 4,
 "nbformat_minor": 4
}
