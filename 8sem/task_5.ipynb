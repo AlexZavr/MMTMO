{
 "cells": [
  {
   "cell_type": "code",
   "execution_count": 1,
   "metadata": {},
   "outputs": [],
   "source": [
    "import matplotlib.pyplot as plt\n",
    "from sympy import solve\n",
    "from sympy.abc import x"
   ]
  },
  {
   "cell_type": "code",
   "execution_count": 2,
   "metadata": {},
   "outputs": [],
   "source": [
    "k = 5\n",
    "lambd = 1 / 9\n",
    "mu = 1 / 7\n",
    "\n",
    "psy = lambd / (k * mu)\n",
    "\n",
    "profit = 50\n",
    "expenses = 170\n",
    "work_time = 9"
   ]
  },
  {
   "cell_type": "code",
   "execution_count": 3,
   "metadata": {},
   "outputs": [
    {
     "name": "stdout",
     "output_type": "stream",
     "text": [
      "r = 0.441675845492114\n",
      "check:  0.7777777777777778  ==  0.777777777777778\n"
     ]
    }
   ],
   "source": [
    "def get_r(equation, power):\n",
    "    s = solve(equation)\n",
    "#     print(s)\n",
    "    return s[0] if power % 2 != 0 else s[1]\n",
    "\n",
    "r = get_r(x + x ** 2 + x ** 3 + x ** 4 + x ** 5 - (lambd / mu), 5)\n",
    "\n",
    "print('r =', r)\n",
    "print('check: ', lambd / mu, ' == ', sum([r ** i for i in range(1, k + 1)]))"
   ]
  },
  {
   "cell_type": "code",
   "execution_count": 4,
   "metadata": {},
   "outputs": [],
   "source": [
    "def get_p0(_r, _k):\n",
    "    return (1 - _r) / _k\n",
    "\n",
    "def get_pq(_r, _k, _q):\n",
    "    return (1 - _r ** (_q + 1)) / _k\n",
    "\n",
    "def get_pkn(_r, _psy, _n):\n",
    "    return _psy * (1 - _r) * (_r ** _n)"
   ]
  },
  {
   "cell_type": "code",
   "execution_count": 5,
   "metadata": {},
   "outputs": [
    {
     "name": "stdout",
     "output_type": "stream",
     "text": [
      "p0 = 0.111664830901577\n",
      "b_ = 2.01329644304187\n",
      "Среднее время ожидания в очереди: 18.1196679873768\n",
      "Вероятность того, что аттракцион простаивает: 0.844444444444444\n",
      "Среднее число человек, ожидающих в очереди: 2.01329644304187\n",
      "Вероятность ожидания в очереди: 0.888335169098423\n",
      "Долю времени, в течение которого аттракцион используется: 0.155555555555556\n",
      "Среднее значение выручки от использования аттракциона: 3000.00000000000\n",
      "Среднее значение прибыли от использования аттракциона: 960.000000000000\n"
     ]
    }
   ],
   "source": [
    "p0 = get_p0(r, k)\n",
    "print('p0 =', p0)\n",
    "\n",
    "# а) среднее время ожидания в очереди\n",
    "temp1 = p0 / (1 - r)\n",
    "temp2 = (k * (k - 1)) / 2\n",
    "\n",
    "numerator = r ** 2 * (k * r ** (k - 1) * (1 - r) - (1 - r ** k))\n",
    "denominator = (1 - r) ** 2\n",
    "temp3 = numerator / denominator\n",
    "\n",
    "temp4 = p0 * (1 - r ** k) / (1 - r)\n",
    "temp5 = (r ** 2) / ((1 - r) ** 2)\n",
    "\n",
    "b_ = temp1 * (temp2 + temp3) + temp4 * temp5\n",
    "print('b_ =', b_)\n",
    "\n",
    "w_ = b_ / lambd\n",
    "print('Среднее время ожидания в очереди:', w_)\n",
    "\n",
    "# б) вероятность того, что аттракцион простаивает\n",
    "p_p = p0 + sum([get_pq(r, k, q) for q in range(1, k)])\n",
    "print('Вероятность того, что аттракцион простаивает:', p_p)\n",
    "\n",
    "# в) среднее число человек, ожидающих в очереди \n",
    "print('Среднее число человек, ожидающих в очереди:', b_)\n",
    "\n",
    "# г) вероятность ожидания в очереди \n",
    "p_wait_q = sum([get_pq(r, k, q) for q in range(1, k)]) + sum([get_pkn(r, psy, n) for n in range(500)])\n",
    "print('Вероятность ожидания в очереди:', p_wait_q)\n",
    "\n",
    "# д) долю времени, в течение которого аттракцион используется \n",
    "p_w = 1 - p_p\n",
    "print('Долю времени, в течение которого аттракцион используется:', p_w)\n",
    "\n",
    "# е) средние значения выручки и прибыли от использования аттракциона\n",
    "revenue = profit * k * work_time * p_w * (60 / (1 / mu)) \n",
    "print('Среднее значение выручки от использования аттракциона:', revenue)\n",
    "\n",
    "earnings = expenses * work_time * p_w * (60 / (1 / mu))\n",
    "print('Среднее значение прибыли от использования аттракциона:', revenue - earnings)"
   ]
  },
  {
   "cell_type": "code",
   "execution_count": 6,
   "metadata": {},
   "outputs": [
    {
     "name": "stdout",
     "output_type": "stream",
     "text": [
      "r = 0.463449746724726 : x**3 + x**2 + x - 0.777777777777778 \n",
      "\n",
      "r = 0.447606596258337 : x**4 + x**3 + x**2 + x - 0.777777777777778 \n",
      "\n",
      "r = 0.441675845492114 : x**5 + x**4 + x**3 + x**2 + x - 0.777777777777778 \n",
      "\n",
      "r = 0.439275334756160 : x**6 + x**5 + x**4 + x**3 + x**2 + x - 0.777777777777778 \n",
      "\n",
      "r = 0.438265635170457 : x**7 + x**6 + x**5 + x**4 + x**3 + x**2 + x - 0.777777777777778 \n",
      "\n",
      "r = 0.437832579286167 : x**8 + x**7 + x**6 + x**5 + x**4 + x**3 + x**2 + x - 0.777777777777778 \n",
      "\n",
      "r = 0.437644991369597 : x**9 + x**8 + x**7 + x**6 + x**5 + x**4 + x**3 + x**2 + x - 0.777777777777778 \n",
      "\n",
      "r = 0.437563324617438 : x**10 + x**9 + x**8 + x**7 + x**6 + x**5 + x**4 + x**3 + x**2 + x - 0.777777777777778 \n",
      "\n",
      "[3, 4, 5, 6, 7, 8, 9, 10]\n",
      "[-400.000000000000, 450.000000000000, 960.000000000000, 1300.00000000000, 1542.85714285714, 1725.00000000000, 1866.66666666667, 1980.00000000000]\n",
      "[9.77382490281409, 13.7927361895310, 18.1196679873768, 22.5506582960573, 27.0218077502362, 31.5094656296018, 36.0041252622951, 40.5018014363632]\n"
     ]
    }
   ],
   "source": [
    "# Определить, как изменятся средняя прибыль и среднее время ожидания \n",
    "# в очереди при различных значениях вместимости аттракциона – от 3 до 10 человек\n",
    "capacity = list(range(3, 11))\n",
    "profits = []\n",
    "w_list = []\n",
    "\n",
    "equation = x + x ** 2 - (lambd / mu)\n",
    "\n",
    "for c in capacity:\n",
    "    equation += x ** c\n",
    "    r = get_r(equation, c)\n",
    "    print('r =', r, ':', equation, '\\n')\n",
    "    \n",
    "    p0 = get_p0(r, c)\n",
    "\n",
    "    temp1 = p0 / (1 - r)\n",
    "    temp2 = (c * (c - 1)) / 2\n",
    "\n",
    "    numerator = r ** 2 * (c * r ** (c - 1) * (1 - r) - (1 - r ** c))\n",
    "    denominator = (1 - r) ** 2\n",
    "    temp3 = numerator / denominator\n",
    "\n",
    "    temp4 = p0 * (1 - r ** c) / (1 - r)\n",
    "    temp5 = (r ** 2) / ((1 - r) ** 2)\n",
    "\n",
    "    b_ = temp1 * (temp2 + temp3) + temp4 * temp5\n",
    "\n",
    "    w_ = b_ / lambd\n",
    "    w_list.append(w_)\n",
    "\n",
    "    p_p = p0 + sum([get_pq(r, c, q) for q in range(1, c)])\n",
    "    p_w = 1 - p_p\n",
    "\n",
    "    revenue = profit * c * work_time * p_w * (60 / (1 / mu)) \n",
    "    earnings = expenses * work_time * p_w * (60 / (1 / mu))\n",
    "    profits.append(revenue - earnings)\n",
    "    \n",
    "print(capacity)\n",
    "print(profits)\n",
    "print(w_list)"
   ]
  },
  {
   "cell_type": "code",
   "execution_count": 7,
   "metadata": {},
   "outputs": [
    {
     "data": {
      "image/png": "[encoded data removed]",
      "text/plain": [
       "<Figure size 432x288 with 1 Axes>"
      ]
     },
     "metadata": {
      "needs_background": "light"
     },
     "output_type": "display_data"
    }
   ],
   "source": [
    "plt.plot(capacity, profits)\n",
    "plt.title('Зависимость средней прибыли\\nот вместимости аттракциона')\n",
    "plt.xlabel('вместимость аттракционов')\n",
    "plt.ylabel('средняя прибыль')\n",
    "plt.grid()\n",
    "plt.show()"
   ]
  },
  {
   "cell_type": "code",
   "execution_count": 8,
   "metadata": {},
   "outputs": [
    {
     "data": {
      "image/png": "[encoded data removed]",
      "text/plain": [
       "<Figure size 432x288 with 1 Axes>"
      ]
     },
     "metadata": {
      "needs_background": "light"
     },
     "output_type": "display_data"
    }
   ],
   "source": [
    "plt.plot(capacity, w_list)\n",
    "plt.title('Зависимость среднего ожидания в очереди\\nот вместимости аттракциона')\n",
    "plt.xlabel('вместимость аттракционов')\n",
    "plt.ylabel('w')\n",
    "plt.grid()\n",
    "plt.show()"
   ]
  }
 ],
 "metadata": {
  "kernelspec": {
   "display_name": "Python 3",
   "language": "python",
   "name": "python3"
  },
  "language_info": {
   "codemirror_mode": {
    "name": "ipython",
    "version": 3
   },
   "file_extension": ".py",
   "mimetype": "text/x-python",
   "name": "python",
   "nbconvert_exporter": "python",
   "pygments_lexer": "ipython3",
   "version": "3.8.5"
  }
 },
 "nbformat": 4,
 "nbformat_minor": 4
}
