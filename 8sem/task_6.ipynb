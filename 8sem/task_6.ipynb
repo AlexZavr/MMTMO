{
 "cells": [
  {
   "cell_type": "code",
   "execution_count": null,
   "metadata": {},
   "outputs": [],
   "source": []
  },
  {
   "cell_type": "code",
   "execution_count": null,
   "metadata": {},
   "outputs": [],
   "source": [
    "k = 5\n",
    "lambd = 1\n",
    "mu = 1\n",
    "m = [1, 2, 3]\n",
    "a = [1/3, 1/3, 1/3]"
   ]
  },
  {
   "cell_type": "code",
   "execution_count": null,
   "metadata": {},
   "outputs": [],
   "source": [
    "# а) вероятность того, что катер противника будет обстрелян средствами противокатерной обороны\n",
    "\n",
    "# б) среднее число средств противокатерной обороны, занятых обстрелом \n",
    "\n",
    "# в) коэффициент загрузки каждого средства противокатерной обороны \n",
    "\n",
    "# г) долю времени, когда средства противокатерной обороны будут ожидать появления очередных целей обстрела\n"
   ]
  },
  {
   "cell_type": "code",
   "execution_count": null,
   "metadata": {},
   "outputs": [],
   "source": []
  }
 ],
 "metadata": {
  "kernelspec": {
   "display_name": "Python 3",
   "language": "python",
   "name": "python3"
  },
  "language_info": {
   "codemirror_mode": {
    "name": "ipython",
    "version": 3
   },
   "file_extension": ".py",
   "mimetype": "text/x-python",
   "name": "python",
   "nbconvert_exporter": "python",
   "pygments_lexer": "ipython3",
   "version": "3.8.5"
  }
 },
 "nbformat": 4,
 "nbformat_minor": 4
}
