{
 "cells": [
  {
   "cell_type": "code",
   "execution_count": 2,
   "metadata": {},
   "outputs": [],
   "source": [
    "import numpy as np\n",
    "from pprint import pprint"
   ]
  },
  {
   "cell_type": "code",
   "execution_count": 3,
   "metadata": {},
   "outputs": [],
   "source": [
    "def get_p(M, v):\n",
    "    return np.linalg.solve(M, v)\n",
    "\n",
    "def get_matrix(k):\n",
    "    M = [[1] * (k + 1)]\n",
    "    \n",
    "    for i in range(k - 1):\n",
    "        line = [0] * (k + 1)\n",
    "        line[i], line[i + 1] = -1, 1\n",
    "        for j in range(i):\n",
    "            line[j] = (1 / 3) * (1 / (i + 1))\n",
    "        M.append(line)\n",
    "    \n",
    "    line = [0] * (k + 1)\n",
    "    line[k], line[k - 1] = 1, -1 / k\n",
    "    line[k - 2], line[k - 3] = -(1 / k) * (2 / 3), -(1 / k) * (1 / 3)\n",
    "    M.append(line)\n",
    "    return M    "
   ]
  },
  {
   "cell_type": "code",
   "execution_count": 4,
   "metadata": {},
   "outputs": [],
   "source": [
    "k = 5\n",
    "lambd = 1\n",
    "mu = 1\n",
    "m = [1, 2, 3]\n",
    "a = [1/3, 1/3, 1/3]\n",
    "\n",
    "alpha = lambd / mu"
   ]
  },
  {
   "cell_type": "code",
   "execution_count": 5,
   "metadata": {
    "scrolled": true
   },
   "outputs": [
    {
     "name": "stdout",
     "output_type": "stream",
     "text": [
      "[0.24804777 0.24804777 0.20670648 0.15158475 0.09301791 0.05259531]\n",
      "1.0\n"
     ]
    }
   ],
   "source": [
    "M = [\n",
    "    [1, 1, 1, 1, 1, 1],\n",
    "    [-1, 1, 0, 0, 0, 0],\n",
    "    [1/6, -1, 1, 0, 0, 0],\n",
    "    [1/9, 1/9, -1, 1, 0, 0],\n",
    "    [1/12, 1/12, 1/12, -1, 1, 0],\n",
    "    [0, 0, -1/15, -2/15, -3/15, 1]\n",
    "]\n",
    "v = [1] + [0] * k\n",
    "\n",
    "p = get_p(M, v)\n",
    "print(p)\n",
    "print(sum(p))"
   ]
  },
  {
   "cell_type": "code",
   "execution_count": 7,
   "metadata": {},
   "outputs": [
    {
     "name": "stdout",
     "output_type": "stream",
     "text": [
      "Вероятность того, что катер противника будет обстрелян средствами противокатерной обороны: 0.8756316031235647\n",
      "Среднее число средств противокатерной обороны, занятых обстрелом: 1.7512632062471294\n",
      "Коэффициент загрузки каждого средства противокатерной обороны: 0.3502526412494259\n",
      "Доля времени, когда средства противокатерной обороны \n",
      "будут ожидать появления очередных целей обстрела: 0.2480477721635278\n"
     ]
    }
   ],
   "source": [
    "# а) вероятность того, что катер противника будет обстрелян средствами противокатерной обороны\n",
    "h_ = sum([n * p[n] for n in range(k + 1)])\n",
    "p_obs = (mu * h_) / (lambd * sum([m[s] * a[s] for s in range(len(a))]))\n",
    "print(f\"Вероятность того, что катер противника будет обстрелян средствами противокатерной обороны: {p_obs}\")\n",
    "\n",
    "# б) среднее число средств противокатерной обороны, занятых обстрелом \n",
    "print(f\"Среднее число средств противокатерной обороны, занятых обстрелом: {h_}\")\n",
    "\n",
    "# в) коэффициент загрузки каждого средства противокатерной обороны \n",
    "print(f\"Коэффициент загрузки каждого средства противокатерной обороны: {h_ / k}\")\n",
    "\n",
    "# г) долю времени, когда средства противокатерной обороны будут ожидать появления очередных целей обстрела\n",
    "print(\"Доля времени, когда средства противокатерной обороны \\n\" +\n",
    "      f\"будут ожидать появления очередных целей обстрела: {p[0]}\")\n"
   ]
  },
  {
   "cell_type": "code",
   "execution_count": 7,
   "metadata": {},
   "outputs": [
    {
     "name": "stdout",
     "output_type": "stream",
     "text": [
      "k = 4\n",
      "p_obs = 0.7854545454545454\n",
      "\n",
      "k = 3\n",
      "p_obs = 0.653225806451613\n",
      "\n",
      "Чтобы доля обстреленных катеров была не менее 75%, \n",
      "необходимо 4 единицы противокатерной обороны\n"
     ]
    }
   ],
   "source": [
    "# Определить, сколько единиц противокатерной обороны должно иметь\n",
    "# соединение кораблей, чтобы доля обстрелянных катеров была не менее 75%\n",
    "while p_obs > .75:\n",
    "    k -= 1\n",
    "    M = get_matrix(k)\n",
    "    v = [1] + [0] * k\n",
    "    \n",
    "    p = get_p(M, v)\n",
    "    h_ = sum([n * p[n] for n in range(k + 1)])\n",
    "    p_obs = (mu * h_) / (lambd * sum([m[s] * a[s] for s in range(len(a))]))\n",
    "    \n",
    "    print(f\"k = {k}\")\n",
    "    print(f\"p_obs = {p_obs}\\n\")\n",
    "    \n",
    "print(f\"Чтобы доля обстреленных катеров была не менее 75%, \\nнеобходимо {k + 1} единицы противокатерной обороны\")"
   ]
  }
 ],
 "metadata": {
  "kernelspec": {
   "display_name": "Python 3",
   "language": "python",
   "name": "python3"
  },
  "language_info": {
   "codemirror_mode": {
    "name": "ipython",
    "version": 3
   },
   "file_extension": ".py",
   "mimetype": "text/x-python",
   "name": "python",
   "nbconvert_exporter": "python",
   "pygments_lexer": "ipython3",
   "version": "3.8.5"
  }
 },
 "nbformat": 4,
 "nbformat_minor": 4
}
