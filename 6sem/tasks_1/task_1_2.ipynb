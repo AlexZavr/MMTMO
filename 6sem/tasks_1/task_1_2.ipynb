{
 "cells": [
  {
   "cell_type": "code",
   "execution_count": 1,
   "metadata": {
    "pycharm": {
     "name": "#%%\n"
    }
   },
   "outputs": [],
   "source": [
    "import datetime\n",
    "import numpy as np\n",
    "import matplotlib.pyplot as plt\n",
    "from math import factorial, fabs\n",
    "\n",
    "np.set_printoptions(precision=6)"
   ]
  },
  {
   "cell_type": "code",
   "execution_count": 2,
   "metadata": {
    "pycharm": {
     "name": "#%%\n"
    }
   },
   "outputs": [],
   "source": [
    "def get_stationary_vector(omega, Theta):\n",
    "#     while any(omega != omega.dot(Theta)):\n",
    "#         omega = omega.dot(Theta)\n",
    "    for _ in range(100000):\n",
    "        omega = omega.dot(Theta)\n",
    "    return omega  "
   ]
  },
  {
   "cell_type": "code",
   "execution_count": 3,
   "metadata": {
    "pycharm": {
     "name": "#%%\n"
    }
   },
   "outputs": [
    {
     "name": "stdout",
     "output_type": "stream",
     "text": [
      "Стационарное решение: \n",
      "[0.207653 0.117985 0.070791 0.103827 0.212657 0.106329 0.180759] \n",
      " 1.0000000000000002\n"
     ]
    }
   ],
   "source": [
    "L = 6\n",
    "R = 4\n",
    "Q = 6\n",
    "lambda0 = .3\n",
    "k = [1, 1, 1, 1, 1, 1]\n",
    "mu = [.5, .5, .5, .5, .5, .5]\n",
    "Theta = np.array([\n",
    "    [.0, .5, .0, .0, .5, .0, .0],\n",
    "    [.0, .0, .6, .4, .0, .0, .0],\n",
    "    [.0, .2, .0, .8, .0, .0, .0],\n",
    "    [.3, .0, .0, .0, .7, .0, .0],\n",
    "    [.0, .0, .0, .0, .0, .5, .5],\n",
    "    [.3, .0, .0, .0, .0, .0, .7],\n",
    "    [.8, .0, .0, .0, .2, .0, .0]\n",
    "])\n",
    "\n",
    "omega = np.array([1 / (L + 1) for _ in range(L + 1)])\n",
    "omega = get_stationary_vector(omega, Theta)\n",
    "print('Стационарное решение: ')\n",
    "print(omega, '\\n', sum(omega))"
   ]
  },
  {
   "cell_type": "code",
   "execution_count": 4,
   "metadata": {
    "pycharm": {
     "name": "#%%\n"
    }
   },
   "outputs": [
    {
     "name": "stdout",
     "output_type": "stream",
     "text": [
      "2020-04-17 17:41:26.727280\n",
      "5.758103975535169\n",
      "5.758616796047988\n",
      "5.759145642201834\n",
      "5.759691277122469\n",
      "5.760254513169576\n",
      "5.760836215972326\n",
      "5.763232180663374\n",
      "5.764770642201833\n",
      "5.7664373088685\n",
      "5.768248903071399\n",
      "5.770225187656379\n",
      "5.772389689820882\n",
      "5.774770642201835\n",
      "5.778616796047988\n",
      "5.783103975535168\n",
      "5.7884070058382\n",
      "5.791437308868501\n",
      "5.800380398299396\n",
      "5.812094585863806\n",
      "5.824770642201834\n",
      "5.850696568127761\n",
      "5.861807679238872\n",
      "5.924770642201834\n",
      "5.93348623853211\n",
      "5.998301053346925\n",
      "6.026078831124703\n",
      "6.18348623853211\n",
      "6.190349983010533\n",
      "6.442201834862384\n",
      "6.700917431192659\n",
      "6.959633027522935\n",
      "7.2183486238532115\n",
      "\n",
      "Пропускная способность сети 7.2183486238532115 максимальная при:\n",
      "lambdas:  [0.9189189189189186, 0.7810810810810812, 0.255, 2.518348623853211, 0.25183486238532116, 2.4931651376146795, 0]\n",
      "Theta:\n",
      " [[0.   0.85 0.   0.   0.15 0.   0.  ]\n",
      " [0.   0.   0.85 0.15 0.   0.   0.  ]\n",
      " [0.   0.85 0.   0.15 0.   0.   0.  ]\n",
      " [0.85 0.   0.   0.   0.15 0.   0.  ]\n",
      " [0.   0.   0.   0.   0.   0.85 0.15]\n",
      " [0.85 0.   0.   0.   0.   0.   0.15]\n",
      " [0.85 0.   0.   0.   0.15 0.   0.  ]]\n",
      "2020-04-17 17:47:23.126229\n"
     ]
    }
   ],
   "source": [
    "# A: mu - произвольный, подобрать Theta -> max(lambdas)\n",
    "def get_lambdas(omega, theta, lambda0):\n",
    "    omega = get_stationary_vector(omega, theta)\n",
    "    lambdas = [0] * len(omega)\n",
    "    for i in range(1, len(omega)):\n",
    "        lambdas[i - 1] = lambda0 * (omega[i] / omega[0])\n",
    "    return lambdas\n",
    "\n",
    "lambdas = None\n",
    "sum_lambdas = 0\n",
    "\n",
    "print(datetime.datetime.now())\n",
    "\n",
    "for s0 in np.arange(.1, .9, .15):\n",
    "    for s1 in np.arange(.1, .9, .15):\n",
    "        for s2 in np.arange(.1, .9, .15):\n",
    "            for s3 in np.arange(.1, .9, .15):\n",
    "                for s4 in np.arange(.1, .9, .15):\n",
    "                    for s5 in np.arange(.1, .9, .15):\n",
    "                        for s6 in np.arange(.1, .9, .15):\n",
    "                            Theta[0][1], Theta[0][4] = s0, 1 - s0\n",
    "                            Theta[1][2], Theta[1][3] = s1, 1 - s1\n",
    "                            Theta[2][1], Theta[2][3] = s2, 1 - s2\n",
    "                            Theta[3][0], Theta[3][4] = s3, 1 - s3\n",
    "                            Theta[4][5], Theta[4][6] = s4, 1 - s4\n",
    "                            Theta[5][0], Theta[5][6] = s5, 1 - s5\n",
    "                            Theta[6][0], Theta[6][4] = s6, 1 - s6\n",
    "                            lambdas = get_lambdas(omega, Theta, lambda0)\n",
    "                            if sum_lambdas <= sum(lambdas):\n",
    "                                sum_lambdas = sum(lambdas)\n",
    "                                max_lambdas = lambdas\n",
    "                                print(sum(lambdas))\n",
    "\n",
    "print(f'\\nПропускная способность сети {sum_lambdas} максимальная при:')\n",
    "print('lambdas: ', max_lambdas)\n",
    "print('Theta:\\n', Theta)\n",
    "print(datetime.datetime.now())"
   ]
  },
  {
   "cell_type": "code",
   "execution_count": 5,
   "metadata": {
    "pycharm": {
     "name": "#%%\n"
    }
   },
   "outputs": [
    {
     "name": "stdout",
     "output_type": "stream",
     "text": [
      "\n",
      "Сумма компонентов вектора mu минимальна и равна 0.6543000000000017\n",
      "Время реакции равно 6 плюс-минус 0.1\n",
      "mu:  [0.10910000000000027, 0.10910000000000027, 0.10910000000000027, 0.10900000000000026, 0.10900000000000026, 0.10900000000000026]\n",
      "tau: 6.08302754351935\n",
      "Theta:\n",
      " [[0.  0.5 0.  0.  0.5 0.  0. ]\n",
      " [0.  0.  0.6 0.4 0.  0.  0. ]\n",
      " [0.  0.2 0.  0.8 0.  0.  0. ]\n",
      " [0.3 0.  0.  0.  0.7 0.  0. ]\n",
      " [0.  0.  0.  0.  0.  0.5 0.5]\n",
      " [0.3 0.  0.  0.  0.  0.  0.7]\n",
      " [0.8 0.  0.  0.  0.2 0.  0. ]]\n"
     ]
    }
   ],
   "source": [
    "# B: Theta - произвольная, подобрать mu -> sum(mu) -> min при tau = Q\n",
    "def get_tau(L, k, mu, lambda0, Theta, omega):\n",
    "        lambdas = get_lambdas(omega, Theta, lambda0) \n",
    "        \n",
    "        psy = [0] * L\n",
    "        for i in range(len(psy)):\n",
    "            psy[i] = lambdas[i] / (k[i] * mu[i])\n",
    "        \n",
    "        P0 = [0] * L\n",
    "        bi = [0] * L\n",
    "        h = [0] * L\n",
    "        n = [0] * L\n",
    "        u = [0] * L\n",
    "        tau = 0\n",
    "\n",
    "        for i in range(len(P0)):\n",
    "            summa = 0\n",
    "            for j in range(k[i]):\n",
    "                summa += (k[i] * psy[i])**j / factorial(j)\n",
    "            P0[i] = ((((k[i] * psy[i])**k[i]) / \n",
    "                          (factorial(k[i]) * (1 - psy[i])) ) + summa)**(-1)\n",
    "            bi[i] = P0[i] * (((k[i]**k[i]) * (psy[i]**(k[i] + 1))) / \n",
    "                                (factorial(k[i]) * ((1 - psy[i])**2)))\n",
    "            h[i] = psy[i] * k[i]\n",
    "            n[i] = bi[i] + h[i]\n",
    "            u[i] = n[i] / lambdas[i]\n",
    "            tau += lambdas[i] * u[i]\n",
    "\n",
    "        tau = (1 / lambda0) * tau\n",
    "        return tau\n",
    "\n",
    "Theta = np.array([\n",
    "    [.0, .5, .0, .0, .5, .0, .0],\n",
    "    [.0, .0, .6, .4, .0, .0, .0],\n",
    "    [.0, .2, .0, .8, .0, .0, .0],\n",
    "    [.3, .0, .0, .0, .7, .0, .0],\n",
    "    [.0, .0, .0, .0, .0, .5, .5],\n",
    "    [.3, .0, .0, .0, .0, .0, .7],\n",
    "    [.8, .0, .0, .0, .2, .0, .0]\n",
    "])\n",
    "    \n",
    "eps = 0.1\n",
    "# шаг\n",
    "delta = 0.0001\n",
    "# начальный вектор\n",
    "mu = [.1, .1, .1, .1, .1, .1]\n",
    "i = 0\n",
    "tau = get_tau(L, k, mu, lambda0, Theta, omega)\n",
    "while fabs(tau - Q) > eps:\n",
    "    mu[i % 6] += delta\n",
    "    i += 1\n",
    "    tau = get_tau(L, k, mu, lambda0, Theta, omega)\n",
    "#     print('mu: ', mu)\n",
    "#     print('tau:', tau)\n",
    "\n",
    "\n",
    "print(f'\\nСумма компонентов вектора mu минимальна и равна {sum(mu)}')\n",
    "print(f'Время реакции равно {Q} плюс-минус {eps}')\n",
    "print('mu: ', mu)\n",
    "print('tau:', tau)\n",
    "print('Theta:\\n', Theta)"
   ]
  },
  {
   "cell_type": "code",
   "execution_count": null,
   "metadata": {
    "pycharm": {
     "name": "#%%\n"
    }
   },
   "outputs": [],
   "source": []
  },
  {
   "cell_type": "code",
   "execution_count": null,
   "metadata": {},
   "outputs": [],
   "source": []
  },
  {
   "cell_type": "code",
   "execution_count": null,
   "metadata": {},
   "outputs": [],
   "source": []
  }
 ],
 "metadata": {
  "kernelspec": {
   "display_name": "Python 3",
   "language": "python",
   "name": "python3"
  },
  "language_info": {
   "codemirror_mode": {
    "name": "ipython",
    "version": 3
   },
   "file_extension": ".py",
   "mimetype": "text/x-python",
   "name": "python",
   "nbconvert_exporter": "python",
   "pygments_lexer": "ipython3",
   "version": "3.8.1"
  }
 },
 "nbformat": 4,
 "nbformat_minor": 4
}
